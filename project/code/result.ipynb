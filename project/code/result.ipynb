{
 "metadata": {
  "language_info": {
   "codemirror_mode": {
    "name": "ipython",
    "version": 3
   },
   "file_extension": ".py",
   "mimetype": "text/x-python",
   "name": "python",
   "nbconvert_exporter": "python",
   "pygments_lexer": "ipython3",
   "version": "3.8.10"
  },
  "orig_nbformat": 4,
  "kernelspec": {
   "name": "python3",
   "display_name": "Python 3.8.10 64-bit ('tf': conda)"
  },
  "interpreter": {
   "hash": "882cd5c2ab83ffed4df1bef3a3fb568d9a3669543120825f8ac81545e65d99d5"
  }
 },
 "nbformat": 4,
 "nbformat_minor": 2,
 "cells": [
  {
   "cell_type": "code",
   "execution_count": 2,
   "metadata": {},
   "outputs": [],
   "source": [
    "import mlflow"
   ]
  },
  {
   "cell_type": "code",
   "execution_count": 4,
   "metadata": {},
   "outputs": [
    {
     "output_type": "execute_result",
     "data": {
      "text/plain": [
       "     tags.model tags.horizon tags.folder tags.strategy params.input_size  \\\n",
       "0          LSTM            1           2     recursive                12   \n",
       "1          LSTM            1           2        direct                 4   \n",
       "2           MLP            1           2        direct                 4   \n",
       "3           MLP            1           2        direct                12   \n",
       "4           MLP            1           2     recursive                 4   \n",
       "5          LSTM            1           2     recursive                 4   \n",
       "6           MLP            1           2     recursive                 4   \n",
       "7           MLP            1           2     recursive                12   \n",
       "8           MLP            1           2        direct                 4   \n",
       "9          LSTM            1           2        direct                12   \n",
       "10          MLP            1           2     recursive                12   \n",
       "11          MLP            1           2        direct                12   \n",
       "12          MLP            1           2   multioutput                12   \n",
       "13          MLP            1           2   multioutput                 4   \n",
       "14         LSTM            1           2   multioutput                 4   \n",
       "15          MLP            1           2   multioutput                12   \n",
       "16          MLP            1           2   multioutput                 4   \n",
       "17         LSTM            1           2   multioutput                12   \n",
       "18        ARIMA            1           2          None              None   \n",
       "19  persistence            1           2          None              None   \n",
       "20         LSTM            1           2        direct                12   \n",
       "21         LSTM            1           2   multioutput                 4   \n",
       "22         LSTM            1           2        direct                 4   \n",
       "23         LSTM            1           2   multioutput                12   \n",
       "24         LSTM            1           2     recursive                 4   \n",
       "25         LSTM            1           2     recursive                12   \n",
       "\n",
       "   params.hidden_layers  metrics.std_ratio  \n",
       "0                  [10]         101.629277  \n",
       "1                  [10]         101.078739  \n",
       "2                  [10]          99.964454  \n",
       "3                  [10]          99.011936  \n",
       "4                  [10]          98.868555  \n",
       "5                  [10]          97.800817  \n",
       "6              [20, 10]          95.994621  \n",
       "7                  [10]          95.750622  \n",
       "8              [20, 10]          94.037841  \n",
       "9                  [10]          93.410766  \n",
       "10             [20, 10]          89.864705  \n",
       "11             [20, 10]          81.790472  \n",
       "12                 [10]          69.353401  \n",
       "13                 [10]          50.300165  \n",
       "14                 [10]          12.164332  \n",
       "15             [20, 10]           9.237485  \n",
       "16             [20, 10]           3.738425  \n",
       "17                 [10]           3.144224  \n",
       "18                 None           1.010766  \n",
       "19                 None           0.999688  \n",
       "20             [20, 10]           0.894424  \n",
       "21             [20, 10]           0.405727  \n",
       "22             [20, 10]           0.248193  \n",
       "23             [20, 10]           0.109726  \n",
       "24             [20, 10]           0.098225  \n",
       "25             [20, 10]           0.069709  "
      ],
      "text/html": "<div>\n<style scoped>\n    .dataframe tbody tr th:only-of-type {\n        vertical-align: middle;\n    }\n\n    .dataframe tbody tr th {\n        vertical-align: top;\n    }\n\n    .dataframe thead th {\n        text-align: right;\n    }\n</style>\n<table border=\"1\" class=\"dataframe\">\n  <thead>\n    <tr style=\"text-align: right;\">\n      <th></th>\n      <th>tags.model</th>\n      <th>tags.horizon</th>\n      <th>tags.folder</th>\n      <th>tags.strategy</th>\n      <th>params.input_size</th>\n      <th>params.hidden_layers</th>\n      <th>metrics.std_ratio</th>\n    </tr>\n  </thead>\n  <tbody>\n    <tr>\n      <th>0</th>\n      <td>LSTM</td>\n      <td>1</td>\n      <td>2</td>\n      <td>recursive</td>\n      <td>12</td>\n      <td>[10]</td>\n      <td>101.629277</td>\n    </tr>\n    <tr>\n      <th>1</th>\n      <td>LSTM</td>\n      <td>1</td>\n      <td>2</td>\n      <td>direct</td>\n      <td>4</td>\n      <td>[10]</td>\n      <td>101.078739</td>\n    </tr>\n    <tr>\n      <th>2</th>\n      <td>MLP</td>\n      <td>1</td>\n      <td>2</td>\n      <td>direct</td>\n      <td>4</td>\n      <td>[10]</td>\n      <td>99.964454</td>\n    </tr>\n    <tr>\n      <th>3</th>\n      <td>MLP</td>\n      <td>1</td>\n      <td>2</td>\n      <td>direct</td>\n      <td>12</td>\n      <td>[10]</td>\n      <td>99.011936</td>\n    </tr>\n    <tr>\n      <th>4</th>\n      <td>MLP</td>\n      <td>1</td>\n      <td>2</td>\n      <td>recursive</td>\n      <td>4</td>\n      <td>[10]</td>\n      <td>98.868555</td>\n    </tr>\n    <tr>\n      <th>5</th>\n      <td>LSTM</td>\n      <td>1</td>\n      <td>2</td>\n      <td>recursive</td>\n      <td>4</td>\n      <td>[10]</td>\n      <td>97.800817</td>\n    </tr>\n    <tr>\n      <th>6</th>\n      <td>MLP</td>\n      <td>1</td>\n      <td>2</td>\n      <td>recursive</td>\n      <td>4</td>\n      <td>[20, 10]</td>\n      <td>95.994621</td>\n    </tr>\n    <tr>\n      <th>7</th>\n      <td>MLP</td>\n      <td>1</td>\n      <td>2</td>\n      <td>recursive</td>\n      <td>12</td>\n      <td>[10]</td>\n      <td>95.750622</td>\n    </tr>\n    <tr>\n      <th>8</th>\n      <td>MLP</td>\n      <td>1</td>\n      <td>2</td>\n      <td>direct</td>\n      <td>4</td>\n      <td>[20, 10]</td>\n      <td>94.037841</td>\n    </tr>\n    <tr>\n      <th>9</th>\n      <td>LSTM</td>\n      <td>1</td>\n      <td>2</td>\n      <td>direct</td>\n      <td>12</td>\n      <td>[10]</td>\n      <td>93.410766</td>\n    </tr>\n    <tr>\n      <th>10</th>\n      <td>MLP</td>\n      <td>1</td>\n      <td>2</td>\n      <td>recursive</td>\n      <td>12</td>\n      <td>[20, 10]</td>\n      <td>89.864705</td>\n    </tr>\n    <tr>\n      <th>11</th>\n      <td>MLP</td>\n      <td>1</td>\n      <td>2</td>\n      <td>direct</td>\n      <td>12</td>\n      <td>[20, 10]</td>\n      <td>81.790472</td>\n    </tr>\n    <tr>\n      <th>12</th>\n      <td>MLP</td>\n      <td>1</td>\n      <td>2</td>\n      <td>multioutput</td>\n      <td>12</td>\n      <td>[10]</td>\n      <td>69.353401</td>\n    </tr>\n    <tr>\n      <th>13</th>\n      <td>MLP</td>\n      <td>1</td>\n      <td>2</td>\n      <td>multioutput</td>\n      <td>4</td>\n      <td>[10]</td>\n      <td>50.300165</td>\n    </tr>\n    <tr>\n      <th>14</th>\n      <td>LSTM</td>\n      <td>1</td>\n      <td>2</td>\n      <td>multioutput</td>\n      <td>4</td>\n      <td>[10]</td>\n      <td>12.164332</td>\n    </tr>\n    <tr>\n      <th>15</th>\n      <td>MLP</td>\n      <td>1</td>\n      <td>2</td>\n      <td>multioutput</td>\n      <td>12</td>\n      <td>[20, 10]</td>\n      <td>9.237485</td>\n    </tr>\n    <tr>\n      <th>16</th>\n      <td>MLP</td>\n      <td>1</td>\n      <td>2</td>\n      <td>multioutput</td>\n      <td>4</td>\n      <td>[20, 10]</td>\n      <td>3.738425</td>\n    </tr>\n    <tr>\n      <th>17</th>\n      <td>LSTM</td>\n      <td>1</td>\n      <td>2</td>\n      <td>multioutput</td>\n      <td>12</td>\n      <td>[10]</td>\n      <td>3.144224</td>\n    </tr>\n    <tr>\n      <th>18</th>\n      <td>ARIMA</td>\n      <td>1</td>\n      <td>2</td>\n      <td>None</td>\n      <td>None</td>\n      <td>None</td>\n      <td>1.010766</td>\n    </tr>\n    <tr>\n      <th>19</th>\n      <td>persistence</td>\n      <td>1</td>\n      <td>2</td>\n      <td>None</td>\n      <td>None</td>\n      <td>None</td>\n      <td>0.999688</td>\n    </tr>\n    <tr>\n      <th>20</th>\n      <td>LSTM</td>\n      <td>1</td>\n      <td>2</td>\n      <td>direct</td>\n      <td>12</td>\n      <td>[20, 10]</td>\n      <td>0.894424</td>\n    </tr>\n    <tr>\n      <th>21</th>\n      <td>LSTM</td>\n      <td>1</td>\n      <td>2</td>\n      <td>multioutput</td>\n      <td>4</td>\n      <td>[20, 10]</td>\n      <td>0.405727</td>\n    </tr>\n    <tr>\n      <th>22</th>\n      <td>LSTM</td>\n      <td>1</td>\n      <td>2</td>\n      <td>direct</td>\n      <td>4</td>\n      <td>[20, 10]</td>\n      <td>0.248193</td>\n    </tr>\n    <tr>\n      <th>23</th>\n      <td>LSTM</td>\n      <td>1</td>\n      <td>2</td>\n      <td>multioutput</td>\n      <td>12</td>\n      <td>[20, 10]</td>\n      <td>0.109726</td>\n    </tr>\n    <tr>\n      <th>24</th>\n      <td>LSTM</td>\n      <td>1</td>\n      <td>2</td>\n      <td>recursive</td>\n      <td>4</td>\n      <td>[20, 10]</td>\n      <td>0.098225</td>\n    </tr>\n    <tr>\n      <th>25</th>\n      <td>LSTM</td>\n      <td>1</td>\n      <td>2</td>\n      <td>recursive</td>\n      <td>12</td>\n      <td>[20, 10]</td>\n      <td>0.069709</td>\n    </tr>\n  </tbody>\n</table>\n</div>"
     },
     "metadata": {},
     "execution_count": 4
    }
   ],
   "source": [
    "CENTRAL = 'BOCORWF1'\n",
    "experiment_id = mlflow.get_experiment_by_name(CENTRAL).experiment_id\n",
    "\n",
    "query = f\"tags.horizon = '1' and tags.folder = '2'\"\n",
    "result = mlflow.search_runs([experiment_id], filter_string=query, order_by=[\"metrics.std_ratio DESC\"])\n",
    "result[['tags.model','tags.horizon','tags.folder','tags.strategy','params.input_size','params.hidden_layers','metrics.std_ratio']]"
   ]
  },
  {
   "cell_type": "code",
   "execution_count": null,
   "metadata": {},
   "outputs": [],
   "source": []
  }
 ]
}