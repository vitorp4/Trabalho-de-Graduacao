{
 "metadata": {
  "language_info": {
   "codemirror_mode": {
    "name": "ipython",
    "version": 3
   },
   "file_extension": ".py",
   "mimetype": "text/x-python",
   "name": "python",
   "nbconvert_exporter": "python",
   "pygments_lexer": "ipython3",
   "version": "3.8.10"
  },
  "orig_nbformat": 4,
  "kernelspec": {
   "name": "python3",
   "display_name": "Python 3.8.10 64-bit ('tf': conda)"
  },
  "interpreter": {
   "hash": "882cd5c2ab83ffed4df1bef3a3fb568d9a3669543120825f8ac81545e65d99d5"
  }
 },
 "nbformat": 4,
 "nbformat_minor": 2,
 "cells": [
  {
   "cell_type": "code",
   "execution_count": 1,
   "metadata": {},
   "outputs": [],
   "source": [
    "import mlflow"
   ]
  },
  {
   "cell_type": "code",
   "execution_count": 2,
   "metadata": {},
   "outputs": [
    {
     "output_type": "execute_result",
     "data": {
      "text/plain": [
       "   tags.model tags.folder tags.strategy  metrics.rmse\n",
       "0        LSTM           4     recursive     32.408187\n",
       "1        LSTM           4        direct     33.873433\n",
       "2        LSTM           4   multioutput     34.021065\n",
       "3        LSTM           1        direct     36.279681\n",
       "4        LSTM          10        direct     40.194228\n",
       "5        LSTM           2     recursive     40.388907\n",
       "6        LSTM          10     recursive     40.867499\n",
       "7        LSTM           1     recursive     41.332693\n",
       "8        LSTM           2        direct     41.612013\n",
       "9        LSTM           2   multioutput     41.888771\n",
       "10       LSTM           1   multioutput     42.219911\n",
       "11       LSTM           3        direct     44.686380\n",
       "12       LSTM           3     recursive     44.940763\n",
       "13       LSTM           3   multioutput     45.028692\n",
       "14       LSTM           9        direct     51.182679\n",
       "15       LSTM           9   multioutput     51.195596\n",
       "16       LSTM           9     recursive     51.406333\n",
       "17       LSTM           7   multioutput     55.305250\n",
       "18       LSTM          10   multioutput     56.206684\n",
       "19       LSTM           8        direct     57.238905\n",
       "20       LSTM           5   multioutput     58.864752\n",
       "21       LSTM           5     recursive     59.164573\n",
       "22       LSTM           5        direct     59.236405\n",
       "23       LSTM           8   multioutput     63.342523\n",
       "24       LSTM           8     recursive     63.891410\n",
       "25       LSTM           6        direct     70.758936\n",
       "26       LSTM           6     recursive     70.835128\n",
       "27       LSTM           6   multioutput     70.972985\n",
       "28       LSTM           7     recursive     71.898998\n",
       "29       LSTM           7        direct     72.292259"
      ],
      "text/html": "<div>\n<style scoped>\n    .dataframe tbody tr th:only-of-type {\n        vertical-align: middle;\n    }\n\n    .dataframe tbody tr th {\n        vertical-align: top;\n    }\n\n    .dataframe thead th {\n        text-align: right;\n    }\n</style>\n<table border=\"1\" class=\"dataframe\">\n  <thead>\n    <tr style=\"text-align: right;\">\n      <th></th>\n      <th>tags.model</th>\n      <th>tags.folder</th>\n      <th>tags.strategy</th>\n      <th>metrics.rmse</th>\n    </tr>\n  </thead>\n  <tbody>\n    <tr>\n      <th>0</th>\n      <td>LSTM</td>\n      <td>4</td>\n      <td>recursive</td>\n      <td>32.408187</td>\n    </tr>\n    <tr>\n      <th>1</th>\n      <td>LSTM</td>\n      <td>4</td>\n      <td>direct</td>\n      <td>33.873433</td>\n    </tr>\n    <tr>\n      <th>2</th>\n      <td>LSTM</td>\n      <td>4</td>\n      <td>multioutput</td>\n      <td>34.021065</td>\n    </tr>\n    <tr>\n      <th>3</th>\n      <td>LSTM</td>\n      <td>1</td>\n      <td>direct</td>\n      <td>36.279681</td>\n    </tr>\n    <tr>\n      <th>4</th>\n      <td>LSTM</td>\n      <td>10</td>\n      <td>direct</td>\n      <td>40.194228</td>\n    </tr>\n    <tr>\n      <th>5</th>\n      <td>LSTM</td>\n      <td>2</td>\n      <td>recursive</td>\n      <td>40.388907</td>\n    </tr>\n    <tr>\n      <th>6</th>\n      <td>LSTM</td>\n      <td>10</td>\n      <td>recursive</td>\n      <td>40.867499</td>\n    </tr>\n    <tr>\n      <th>7</th>\n      <td>LSTM</td>\n      <td>1</td>\n      <td>recursive</td>\n      <td>41.332693</td>\n    </tr>\n    <tr>\n      <th>8</th>\n      <td>LSTM</td>\n      <td>2</td>\n      <td>direct</td>\n      <td>41.612013</td>\n    </tr>\n    <tr>\n      <th>9</th>\n      <td>LSTM</td>\n      <td>2</td>\n      <td>multioutput</td>\n      <td>41.888771</td>\n    </tr>\n    <tr>\n      <th>10</th>\n      <td>LSTM</td>\n      <td>1</td>\n      <td>multioutput</td>\n      <td>42.219911</td>\n    </tr>\n    <tr>\n      <th>11</th>\n      <td>LSTM</td>\n      <td>3</td>\n      <td>direct</td>\n      <td>44.686380</td>\n    </tr>\n    <tr>\n      <th>12</th>\n      <td>LSTM</td>\n      <td>3</td>\n      <td>recursive</td>\n      <td>44.940763</td>\n    </tr>\n    <tr>\n      <th>13</th>\n      <td>LSTM</td>\n      <td>3</td>\n      <td>multioutput</td>\n      <td>45.028692</td>\n    </tr>\n    <tr>\n      <th>14</th>\n      <td>LSTM</td>\n      <td>9</td>\n      <td>direct</td>\n      <td>51.182679</td>\n    </tr>\n    <tr>\n      <th>15</th>\n      <td>LSTM</td>\n      <td>9</td>\n      <td>multioutput</td>\n      <td>51.195596</td>\n    </tr>\n    <tr>\n      <th>16</th>\n      <td>LSTM</td>\n      <td>9</td>\n      <td>recursive</td>\n      <td>51.406333</td>\n    </tr>\n    <tr>\n      <th>17</th>\n      <td>LSTM</td>\n      <td>7</td>\n      <td>multioutput</td>\n      <td>55.305250</td>\n    </tr>\n    <tr>\n      <th>18</th>\n      <td>LSTM</td>\n      <td>10</td>\n      <td>multioutput</td>\n      <td>56.206684</td>\n    </tr>\n    <tr>\n      <th>19</th>\n      <td>LSTM</td>\n      <td>8</td>\n      <td>direct</td>\n      <td>57.238905</td>\n    </tr>\n    <tr>\n      <th>20</th>\n      <td>LSTM</td>\n      <td>5</td>\n      <td>multioutput</td>\n      <td>58.864752</td>\n    </tr>\n    <tr>\n      <th>21</th>\n      <td>LSTM</td>\n      <td>5</td>\n      <td>recursive</td>\n      <td>59.164573</td>\n    </tr>\n    <tr>\n      <th>22</th>\n      <td>LSTM</td>\n      <td>5</td>\n      <td>direct</td>\n      <td>59.236405</td>\n    </tr>\n    <tr>\n      <th>23</th>\n      <td>LSTM</td>\n      <td>8</td>\n      <td>multioutput</td>\n      <td>63.342523</td>\n    </tr>\n    <tr>\n      <th>24</th>\n      <td>LSTM</td>\n      <td>8</td>\n      <td>recursive</td>\n      <td>63.891410</td>\n    </tr>\n    <tr>\n      <th>25</th>\n      <td>LSTM</td>\n      <td>6</td>\n      <td>direct</td>\n      <td>70.758936</td>\n    </tr>\n    <tr>\n      <th>26</th>\n      <td>LSTM</td>\n      <td>6</td>\n      <td>recursive</td>\n      <td>70.835128</td>\n    </tr>\n    <tr>\n      <th>27</th>\n      <td>LSTM</td>\n      <td>6</td>\n      <td>multioutput</td>\n      <td>70.972985</td>\n    </tr>\n    <tr>\n      <th>28</th>\n      <td>LSTM</td>\n      <td>7</td>\n      <td>recursive</td>\n      <td>71.898998</td>\n    </tr>\n    <tr>\n      <th>29</th>\n      <td>LSTM</td>\n      <td>7</td>\n      <td>direct</td>\n      <td>72.292259</td>\n    </tr>\n  </tbody>\n</table>\n</div>"
     },
     "metadata": {},
     "execution_count": 2
    }
   ],
   "source": [
    "CENTRAL = 'BOCORWF1'\n",
    "experiment_id = mlflow.get_experiment_by_name(CENTRAL).experiment_id\n",
    "\n",
    "query = \"tags.horizon = '1'\"\n",
    "result = mlflow.search_runs([experiment_id], filter_string=query, order_by=[\"metrics.rmse\"])\n",
    "result[['tags.model','tags.folder','tags.strategy','metrics.rmse']]"
   ]
  },
  {
   "cell_type": "code",
   "execution_count": null,
   "metadata": {},
   "outputs": [],
   "source": []
  }
 ]
}